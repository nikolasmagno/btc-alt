{
 "cells": [
  {
   "cell_type": "code",
   "execution_count": null,
   "metadata": {},
   "outputs": [],
   "source": [
    "import pandas as pd\n",
    "import datetime\n",
    "\n",
    "import json as json\n",
    "from pandas.io.json import json_normalize\n",
    "\n",
    "import numpy as np\n",
    "import os\n",
    "import scipy.optimize as sco\n",
    "from datetime import datetime\n",
    "\n",
    "import matplotlib.pyplot as plt\n",
    "import matplotlib\n",
    "%matplotlib inline\n",
    "import pandas_profiling\n"
   ]
  },
  {
   "cell_type": "code",
   "execution_count": null,
   "metadata": {},
   "outputs": [],
   "source": [
    "array_dataframe = []\n",
    "dados = pd.DataFrame([])\n",
    "scoins = []\n",
    "\n",
    "folder_candle = 'Operacoes'\n",
    "\n",
    "for folder in os.scandir(folder_candle):\n",
    "    scoins.append(folder.name)\n",
    "    for entry in os.scandir(folder):\n",
    "        if entry.is_file():\n",
    "            coin_symbol = (os.path.splitext(entry.name)[0])        \n",
    "            with open(entry.path) as d:            \n",
    "                coin_hist = json.load(d);\n",
    "            df = json_normalize(coin_hist);\n",
    "\n",
    "            df['coin'] = folder.name\n",
    "            df['amount'] = pd.to_numeric(df['amount'].replace('.',','))\n",
    "            df['rate'] = pd.to_numeric(df['total'].replace('.',','))\n",
    "            df['total'] = pd.to_numeric(df['total'].replace('.',','))\n",
    "            df['date'] = pd.to_datetime(df['date'])            \n",
    "            df['day'] = pd.to_datetime(df['date'],format='%Y-%m-%d').dt.date\n",
    "            \n",
    "            array_dataframe.append(df)       \n",
    "        \n",
    "dados = pd.concat(array_dataframe)\n",
    "\n",
    "dados = dados.replace([np.inf, -np.inf], np.nan)\n",
    "dados = dados.fillna(0)\n",
    "#dados.set_index(['date','coin'], inplace= True)\n",
    "dados.head()"
   ]
  },
  {
   "cell_type": "code",
   "execution_count": null,
   "metadata": {},
   "outputs": [],
   "source": [
    "grouped_data = dados.groupby('coin', as_index=False)\n",
    "\n",
    "sorted_grouped_data = sorted(\n",
    "    grouped_data,  # iterates pairs of (key, corresponding subDataFrame)\n",
    "    key=lambda x: len(x[1]),  # sort by number of rows (len of subDataFrame)\n",
    "    reverse=True  # largest first\n",
    ")\n",
    "\n",
    "grouped_data.describe()"
   ]
  },
  {
   "cell_type": "code",
   "execution_count": null,
   "metadata": {},
   "outputs": [],
   "source": [
    "seg_semestr2017 = grouped_data.apply(lambda g: g[(g['date'] > datetime(2017,6,1)) & (g['date'] < datetime(2018,1,1)) ])\n",
    "seg_semestr2017.set_index('date', inplace=True)\n",
    "seg_semestr2017.head()"
   ]
  },
  {
   "cell_type": "code",
   "execution_count": null,
   "metadata": {},
   "outputs": [],
   "source": [
    "fig, ax = plt.subplots(figsize=(8,6))\n",
    "\n",
    "for scoin in scoins:\n",
    "    dados[dados.coin == scoin].plot(kind='line', x='date', y='amount', figsize=(15,10), ax=ax, label=scoin)    \n",
    "    \n",
    "plt.title('Amount x Date')   "
   ]
  },
  {
   "cell_type": "code",
   "execution_count": null,
   "metadata": {},
   "outputs": [],
   "source": [
    "fig, ax = plt.subplots(figsize=(8,6))\n",
    "\n",
    "dados[(dados.coin == 'USDT_BTC') & (dados.type == 'sell')].plot(kind='line', x='date', y='amount', figsize=(15,10), ax=ax, label=scoin)    \n",
    "\n",
    "for scoin in scoins:\n",
    "    dados[(dados.coin == scoin) & (dados.type == 'sell')].plot(kind='line', x='date', y='amount', figsize=(15,10), ax=ax, label=scoin+'_SELL')    \n",
    "    dados[(dados.coin == scoin) & (dados.type == 'buy')].plot(kind='line', x='date', y='amount', figsize=(15,10), ax=ax, label=scoin+'_BUY')    \n",
    "    \n",
    "plt.title('Amount x Date')   "
   ]
  },
  {
   "cell_type": "code",
   "execution_count": null,
   "metadata": {},
   "outputs": [],
   "source": [
    "#fig, ax = plt.subplots(figsize=(8,6))\n",
    "\n",
    "#for scoin in scoins:\n",
    "#    dados[dados.coin == scoin].plot(kind='bar', x='date', y='amount', figsize=(15,10), ax=ax, label=scoin)    \n",
    "    \n",
    "#plt.title('Amount x Date')   "
   ]
  }
 ],
 "metadata": {
  "kernelspec": {
   "display_name": "Python 3",
   "language": "python",
   "name": "python3"
  },
  "language_info": {
   "codemirror_mode": {
    "name": "ipython",
    "version": 3
   },
   "file_extension": ".py",
   "mimetype": "text/x-python",
   "name": "python",
   "nbconvert_exporter": "python",
   "pygments_lexer": "ipython3",
   "version": "3.6.6"
  }
 },
 "nbformat": 4,
 "nbformat_minor": 2
}
